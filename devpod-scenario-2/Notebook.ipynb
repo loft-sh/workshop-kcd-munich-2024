{
 "cells": [
  {
   "cell_type": "markdown",
   "id": "d4467346-fc4c-4406-b1b6-c14568340151",
   "metadata": {},
   "source": [
    "Setup dependencies and initialize connection"
   ]
  },
  {
   "cell_type": "code",
   "execution_count": 7,
   "id": "98b7fb03-4f81-462b-a09e-aaad9f709684",
   "metadata": {},
   "outputs": [
    {
     "name": "stdout",
     "output_type": "stream",
     "text": [
      "Done\n"
     ]
    }
   ],
   "source": [
    "import os\n",
    "import pandas as pd\n",
    "import mysql.connector\n",
    "from mysql.connector import Error\n",
    "from dotenv import load_dotenv\n",
    "\n",
    "load_dotenv()\n",
    "\n",
    "con = mysql.connector.connect(\n",
    "  host=os.environ[\"DB_HOST\"],\n",
    "  port=os.environ[\"DB_PORT\"],\n",
    "  user=os.environ[\"DB_USERNAME\"],\n",
    "  password=os.environ[\"DB_PASSWORD\"],\n",
    ")\n",
    "\n",
    "def execute_query(connection, query):\n",
    "    cursor = connection.cursor(dictionary=True)\n",
    "    try:\n",
    "        cursor.execute(query)\n",
    "        result = cursor.fetchall()\n",
    "        return pd.DataFrame(result)\n",
    "    except Error as e:\n",
    "        print(f\"The error '{e}' occurred\")\n",
    "        return None\n",
    "\n",
    "def execute_sql_file(connection, file_path):\n",
    "    cursor = connection.cursor(buffered=True)\n",
    "    try:\n",
    "        with open(file_path, 'r') as file:\n",
    "            sql_script = file.read()\n",
    "        for statement in sql_script.split(';'):\n",
    "            if statement.strip():\n",
    "                cursor.execute(statement)\n",
    "        connection.commit()\n",
    "        print(\"SQL file executed successfully\")\n",
    "    except Error as e:\n",
    "        print(f\"The error '{e}' occurred\")\n",
    "\n",
    "print(\"Done\")"
   ]
  },
  {
   "cell_type": "markdown",
   "id": "1b35b863-36ba-497f-93fd-a509fd1fc977",
   "metadata": {},
   "source": [
    "Seed Database"
   ]
  },
  {
   "cell_type": "code",
   "execution_count": 8,
   "id": "0fd3a68f-7973-487c-a9eb-cc2e219edcad",
   "metadata": {},
   "outputs": [
    {
     "name": "stdout",
     "output_type": "stream",
     "text": [
      "SQL file executed successfully\n"
     ]
    }
   ],
   "source": [
    "execute_sql_file(con, \"seed.sql\")"
   ]
  },
  {
   "cell_type": "markdown",
   "id": "b6946629-d271-49a8-a33a-2f160d54c5d1",
   "metadata": {},
   "source": [
    "List all products"
   ]
  },
  {
   "cell_type": "code",
   "execution_count": 12,
   "id": "7a4be592-1b1d-49fb-817f-8862e658edcc",
   "metadata": {},
   "outputs": [
    {
     "data": {
      "text/html": [
       "<div>\n",
       "<style scoped>\n",
       "    .dataframe tbody tr th:only-of-type {\n",
       "        vertical-align: middle;\n",
       "    }\n",
       "\n",
       "    .dataframe tbody tr th {\n",
       "        vertical-align: top;\n",
       "    }\n",
       "\n",
       "    .dataframe thead th {\n",
       "        text-align: right;\n",
       "    }\n",
       "</style>\n",
       "<table border=\"1\" class=\"dataframe\">\n",
       "  <thead>\n",
       "    <tr style=\"text-align: right;\">\n",
       "      <th></th>\n",
       "      <th>id</th>\n",
       "      <th>name</th>\n",
       "      <th>price</th>\n",
       "    </tr>\n",
       "  </thead>\n",
       "  <tbody>\n",
       "    <tr>\n",
       "      <th>0</th>\n",
       "      <td>1</td>\n",
       "      <td>Laptop</td>\n",
       "      <td>999.99</td>\n",
       "    </tr>\n",
       "    <tr>\n",
       "      <th>1</th>\n",
       "      <td>2</td>\n",
       "      <td>Smartphone</td>\n",
       "      <td>499.99</td>\n",
       "    </tr>\n",
       "    <tr>\n",
       "      <th>2</th>\n",
       "      <td>3</td>\n",
       "      <td>Tablet</td>\n",
       "      <td>299.99</td>\n",
       "    </tr>\n",
       "  </tbody>\n",
       "</table>\n",
       "</div>"
      ],
      "text/plain": [
       "   id        name   price\n",
       "0   1      Laptop  999.99\n",
       "1   2  Smartphone  499.99\n",
       "2   3      Tablet  299.99"
      ]
     },
     "execution_count": 12,
     "metadata": {},
     "output_type": "execute_result"
    }
   ],
   "source": [
    "execute_query(con, \"SELECT * FROM products\")"
   ]
  }
 ],
 "metadata": {
  "kernelspec": {
   "display_name": "Python 3 (ipykernel)",
   "language": "python",
   "name": "python3"
  },
  "language_info": {
   "codemirror_mode": {
    "name": "ipython",
    "version": 3
   },
   "file_extension": ".py",
   "mimetype": "text/x-python",
   "name": "python",
   "nbconvert_exporter": "python",
   "pygments_lexer": "ipython3",
   "version": "3.12.3"
  }
 },
 "nbformat": 4,
 "nbformat_minor": 5
}
